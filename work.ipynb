{
 "cells": [
  {
   "cell_type": "markdown",
   "metadata": {},
   "source": [
    "## Libs"
   ]
  },
  {
   "cell_type": "code",
   "execution_count": 96,
   "metadata": {},
   "outputs": [],
   "source": [
    "import heapq as hq\n",
    "import numpy as np\n",
    "from tqdm import tqdm\n",
    "import pandas as pd"
   ]
  },
  {
   "cell_type": "code",
   "execution_count": 3,
   "metadata": {
    "scrolled": true,
    "tags": []
   },
   "outputs": [
    {
     "name": "stdout",
     "output_type": "stream",
     "text": [
      "<class 'pandas.core.frame.DataFrame'>\n",
      "RangeIndex: 2163 entries, 0 to 2162\n",
      "Data columns (total 3 columns):\n",
      " #   Column     Non-Null Count  Dtype\n",
      "---  ------     --------------  -----\n",
      " 0   TIMESTAMP  2163 non-null   int64\n",
      " 1   USER_ID    2163 non-null   int64\n",
      " 2   ITEM_ID    2163 non-null   int64\n",
      "dtypes: int64(3)\n",
      "memory usage: 50.8 KB\n"
     ]
    },
    {
     "data": {
      "text/html": [
       "<div>\n",
       "<style scoped>\n",
       "    .dataframe tbody tr th:only-of-type {\n",
       "        vertical-align: middle;\n",
       "    }\n",
       "\n",
       "    .dataframe tbody tr th {\n",
       "        vertical-align: top;\n",
       "    }\n",
       "\n",
       "    .dataframe thead th {\n",
       "        text-align: right;\n",
       "    }\n",
       "</style>\n",
       "<table border=\"1\" class=\"dataframe\">\n",
       "  <thead>\n",
       "    <tr style=\"text-align: right;\">\n",
       "      <th></th>\n",
       "      <th>TIMESTAMP</th>\n",
       "      <th>USER_ID</th>\n",
       "      <th>ITEM_ID</th>\n",
       "    </tr>\n",
       "  </thead>\n",
       "  <tbody>\n",
       "    <tr>\n",
       "      <th>0</th>\n",
       "      <td>1595606386935036</td>\n",
       "      <td>3129206</td>\n",
       "      <td>588</td>\n",
       "    </tr>\n",
       "    <tr>\n",
       "      <th>1</th>\n",
       "      <td>1595606383603032</td>\n",
       "      <td>3129206</td>\n",
       "      <td>600</td>\n",
       "    </tr>\n",
       "    <tr>\n",
       "      <th>2</th>\n",
       "      <td>1595606354389024</td>\n",
       "      <td>3129206</td>\n",
       "      <td>2730</td>\n",
       "    </tr>\n",
       "    <tr>\n",
       "      <th>3</th>\n",
       "      <td>1595606305623231</td>\n",
       "      <td>1759488</td>\n",
       "      <td>2644</td>\n",
       "    </tr>\n",
       "    <tr>\n",
       "      <th>4</th>\n",
       "      <td>1595606278320013</td>\n",
       "      <td>3129206</td>\n",
       "      <td>298</td>\n",
       "    </tr>\n",
       "    <tr>\n",
       "      <th>...</th>\n",
       "      <td>...</td>\n",
       "      <td>...</td>\n",
       "      <td>...</td>\n",
       "    </tr>\n",
       "    <tr>\n",
       "      <th>2158</th>\n",
       "      <td>1595520335157065</td>\n",
       "      <td>3982077</td>\n",
       "      <td>2739</td>\n",
       "    </tr>\n",
       "    <tr>\n",
       "      <th>2159</th>\n",
       "      <td>1595520232145049</td>\n",
       "      <td>3982077</td>\n",
       "      <td>2076</td>\n",
       "    </tr>\n",
       "    <tr>\n",
       "      <th>2160</th>\n",
       "      <td>1595520033463006</td>\n",
       "      <td>3529652</td>\n",
       "      <td>342</td>\n",
       "    </tr>\n",
       "    <tr>\n",
       "      <th>2161</th>\n",
       "      <td>1595520025218016</td>\n",
       "      <td>182834</td>\n",
       "      <td>506</td>\n",
       "    </tr>\n",
       "    <tr>\n",
       "      <th>2162</th>\n",
       "      <td>1595520013557009</td>\n",
       "      <td>182834</td>\n",
       "      <td>504</td>\n",
       "    </tr>\n",
       "  </tbody>\n",
       "</table>\n",
       "<p>2163 rows × 3 columns</p>\n",
       "</div>"
      ],
      "text/plain": [
       "             TIMESTAMP  USER_ID  ITEM_ID\n",
       "0     1595606386935036  3129206      588\n",
       "1     1595606383603032  3129206      600\n",
       "2     1595606354389024  3129206     2730\n",
       "3     1595606305623231  1759488     2644\n",
       "4     1595606278320013  3129206      298\n",
       "...                ...      ...      ...\n",
       "2158  1595520335157065  3982077     2739\n",
       "2159  1595520232145049  3982077     2076\n",
       "2160  1595520033463006  3529652      342\n",
       "2161  1595520025218016   182834      506\n",
       "2162  1595520013557009   182834      504\n",
       "\n",
       "[2163 rows x 3 columns]"
      ]
     },
     "execution_count": 3,
     "metadata": {},
     "output_type": "execute_result"
    }
   ],
   "source": [
    "df = pd.read_clipboard()\n",
    "df.info()\n",
    "df"
   ]
  },
  {
   "cell_type": "code",
   "execution_count": 32,
   "metadata": {},
   "outputs": [
    {
     "data": {
      "text/html": [
       "<div>\n",
       "<style scoped>\n",
       "    .dataframe tbody tr th:only-of-type {\n",
       "        vertical-align: middle;\n",
       "    }\n",
       "\n",
       "    .dataframe tbody tr th {\n",
       "        vertical-align: top;\n",
       "    }\n",
       "\n",
       "    .dataframe thead th {\n",
       "        text-align: right;\n",
       "    }\n",
       "</style>\n",
       "<table border=\"1\" class=\"dataframe\">\n",
       "  <thead>\n",
       "    <tr style=\"text-align: right;\">\n",
       "      <th></th>\n",
       "      <th>USER_ID</th>\n",
       "      <th>ITEM_ID</th>\n",
       "      <th>size</th>\n",
       "    </tr>\n",
       "  </thead>\n",
       "  <tbody>\n",
       "    <tr>\n",
       "      <th>0</th>\n",
       "      <td>85115</td>\n",
       "      <td>298</td>\n",
       "      <td>1</td>\n",
       "    </tr>\n",
       "    <tr>\n",
       "      <th>1437</th>\n",
       "      <td>3949605</td>\n",
       "      <td>612</td>\n",
       "      <td>1</td>\n",
       "    </tr>\n",
       "    <tr>\n",
       "      <th>1451</th>\n",
       "      <td>3949932</td>\n",
       "      <td>463</td>\n",
       "      <td>1</td>\n",
       "    </tr>\n",
       "    <tr>\n",
       "      <th>1450</th>\n",
       "      <td>3949605</td>\n",
       "      <td>2852</td>\n",
       "      <td>1</td>\n",
       "    </tr>\n",
       "    <tr>\n",
       "      <th>1449</th>\n",
       "      <td>3949605</td>\n",
       "      <td>2851</td>\n",
       "      <td>1</td>\n",
       "    </tr>\n",
       "    <tr>\n",
       "      <th>...</th>\n",
       "      <td>...</td>\n",
       "      <td>...</td>\n",
       "      <td>...</td>\n",
       "    </tr>\n",
       "    <tr>\n",
       "      <th>715</th>\n",
       "      <td>2912641</td>\n",
       "      <td>2714</td>\n",
       "      <td>1</td>\n",
       "    </tr>\n",
       "    <tr>\n",
       "      <th>714</th>\n",
       "      <td>2912641</td>\n",
       "      <td>368</td>\n",
       "      <td>1</td>\n",
       "    </tr>\n",
       "    <tr>\n",
       "      <th>713</th>\n",
       "      <td>2899257</td>\n",
       "      <td>2645</td>\n",
       "      <td>1</td>\n",
       "    </tr>\n",
       "    <tr>\n",
       "      <th>712</th>\n",
       "      <td>2899257</td>\n",
       "      <td>2146</td>\n",
       "      <td>1</td>\n",
       "    </tr>\n",
       "    <tr>\n",
       "      <th>2162</th>\n",
       "      <td>4047933</td>\n",
       "      <td>2761</td>\n",
       "      <td>1</td>\n",
       "    </tr>\n",
       "  </tbody>\n",
       "</table>\n",
       "<p>2163 rows × 3 columns</p>\n",
       "</div>"
      ],
      "text/plain": [
       "      USER_ID  ITEM_ID  size\n",
       "0       85115      298     1\n",
       "1437  3949605      612     1\n",
       "1451  3949932      463     1\n",
       "1450  3949605     2852     1\n",
       "1449  3949605     2851     1\n",
       "...       ...      ...   ...\n",
       "715   2912641     2714     1\n",
       "714   2912641      368     1\n",
       "713   2899257     2645     1\n",
       "712   2899257     2146     1\n",
       "2162  4047933     2761     1\n",
       "\n",
       "[2163 rows x 3 columns]"
      ]
     },
     "execution_count": 32,
     "metadata": {},
     "output_type": "execute_result"
    }
   ],
   "source": [
    "# x = df.USER_ID.value_counts()\n",
    "# uid = x[x >= 3].index\n",
    "# df.ITEM_ID.value_counts(), df[df.USER_ID.isin(uid)].ITEM_ID.value_counts()\n",
    "\n",
    "df.groupby([\"USER_ID\", \"ITEM_ID\"]).size().to_frame(\"size\").reset_index().sort_values(\"size\", ascending=False)"
   ]
  },
  {
   "cell_type": "code",
   "execution_count": 16,
   "metadata": {},
   "outputs": [
    {
     "data": {
      "text/plain": [
       "array([[ 0.85, -0.74,  1.1 ,  0.72, -1.01],\n",
       "       [-0.74,  1.64, -0.2 , -1.72,  0.1 ],\n",
       "       [ 1.1 , -0.2 ,  2.  ,  0.1 , -1.9 ],\n",
       "       [ 0.72, -1.72,  0.1 ,  1.81,  0.  ],\n",
       "       [-1.01,  0.1 , -1.9 ,  0.  ,  1.81]])"
      ]
     },
     "execution_count": 16,
     "metadata": {},
     "output_type": "execute_result"
    }
   ],
   "source": [
    "ary = np.array([[.9, -.2], [-1, -.8], [1, -1], [1, .9], [-.9, 1]])\n",
    "ary @ ary.T"
   ]
  },
  {
   "cell_type": "markdown",
   "metadata": {},
   "source": [
    "## Functions"
   ]
  },
  {
   "cell_type": "code",
   "execution_count": null,
   "metadata": {},
   "outputs": [],
   "source": [
    "class ListNode(object):\n",
    "    def __init__(self, val=0, next=None):\n",
    "        self.val = val\n",
    "        self.next = next\n",
    "        \n",
    "    def __repr__(self):\n",
    "        return f\"{self.val} -> {self.next}\"\n",
    "    \n",
    "    def __str__(self):\n",
    "        return self.__repr__()\n",
    "\n",
    "def compose_linkedlist(ary):\n",
    "    if not len(ary):\n",
    "        return None\n",
    "    \n",
    "    head = ptr = ListNode(ary[0])\n",
    "    for i in range(1, len(ary)):\n",
    "        ptr.next = ListNode(ary[i])\n",
    "        ptr = ptr.next\n",
    "    return head\n",
    "\n",
    "def show_linkedlist(x):\n",
    "    while x is not None:\n",
    "        print(x)\n",
    "        x = x.next\n"
   ]
  },
  {
   "cell_type": "markdown",
   "metadata": {},
   "source": [
    "## Hash table implements"
   ]
  },
  {
   "cell_type": "code",
   "execution_count": null,
   "metadata": {},
   "outputs": [],
   "source": [
    "class MyHashTable():\n",
    "    def __init__(self, size):\n",
    "        self.size = size\n",
    "        self.table = [None] * self.size\n",
    "\n",
    "    def my_hash(self, key):\n",
    "        return int.from_bytes(bytes(key, \"utf-8\"), byteorder=\"big\") % self.size\n",
    "\n",
    "    def set(self, key, value):\n",
    "        hash_value = self.my_hash(key)\n",
    "        if self.table[hash_value] is None:\n",
    "            self.table[hash_value] = [[key,value]]\n",
    "        else:\n",
    "            self.table[hash_value].append([key,value])\n",
    "\n",
    "    def get(self, key):\n",
    "        hash_value = self.my_hash(key)\n",
    "        if self.table[hash_value] is not None:\n",
    "            for bucket_key_value_pair in self.table[hash_value]:\n",
    "                if bucket_key_value_pair[0] == key:\n",
    "                    return bucket_key_value_pair[1]\n",
    "        return None"
   ]
  },
  {
   "cell_type": "code",
   "execution_count": 97,
   "metadata": {},
   "outputs": [
    {
     "data": {
      "text/plain": [
       "40"
      ]
     },
     "execution_count": 97,
     "metadata": {},
     "output_type": "execute_result"
    }
   ],
   "source": [
    "from collections import defaultdict\n",
    "\n",
    "class Solution(object):\n",
    "    def __init__(self):\n",
    "        self.done = set()\n",
    "    \n",
    "    def dist(self, nums, i, j):\n",
    "        \"\"\"\"\"\"\n",
    "        return nums[j] - nums[i], (i, j)\n",
    "    \n",
    "    def maybe_push(self, nums, ary, i, j):\n",
    "        if (i, j) not in self.done:\n",
    "            val = self.dist(nums, i, j)\n",
    "            self.done.add((i, j))\n",
    "            hq.heappush(ary, val)\n",
    "        return self\n",
    "        \n",
    "    def smallestDistancePair(self, nums, k):\n",
    "        # dct = {}\n",
    "        ret = []\n",
    "        n = len(nums)\n",
    "        nums.sort()\n",
    "        ary = []\n",
    "        for i in range(len(nums) - 1):\n",
    "            self.maybe_push(nums, ary, i, i + 1)\n",
    "            \n",
    "        hq.heapify(ary)\n",
    "        for i in range(k):\n",
    "            d, coord = hq.heappop(ary)\n",
    "            if coord[1] + 1 < n:\n",
    "                self.maybe_push(nums, ary, coord[0], coord[1] + 1)\n",
    "        return d\n",
    "        \n",
    "Solution().smallestDistancePair(inp, k=30)"
   ]
  },
  {
   "cell_type": "markdown",
   "metadata": {},
   "source": [
    "## Smallest distance pair (Time exceeded)"
   ]
  },
  {
   "cell_type": "code",
   "execution_count": null,
   "metadata": {},
   "outputs": [],
   "source": [
    "from heapq import heappop, heappush, heapify\n",
    "\n",
    "class Solution:\n",
    "    def smallestDistancePair(self, nums, k):\n",
    "        n = len(nums)\n",
    "        nums.sort()\n",
    "        heap = [(nums[i + 1] - nums[i], i, i + 1) for i in range(n - 1)]\n",
    "        heapify(heap)\n",
    "\n",
    "        for _ in range(k):\n",
    "            d, root, nei = heappop(heap)\n",
    "            if nei + 1 < n:\n",
    "                heappush(heap, (nums[nei + 1] - nums[root], root, nei + 1))\n",
    "\n",
    "        return d\n",
    "    \n",
    "Solution().smallestDistancePair(inp, k=30)"
   ]
  },
  {
   "cell_type": "markdown",
   "metadata": {},
   "source": [
    "## 2-sum"
   ]
  },
  {
   "cell_type": "code",
   "execution_count": 229,
   "metadata": {},
   "outputs": [
    {
     "data": {
      "text/plain": [
       "[3, 5]"
      ]
     },
     "execution_count": 229,
     "metadata": {},
     "output_type": "execute_result"
    }
   ],
   "source": [
    "class Solution:\n",
    "    def two_sum(self, ary, target):\n",
    "        dct = {}\n",
    "        for i, e in enumerate(ary):\n",
    "            if target - e in dct:\n",
    "                return [dct[target - e], i]\n",
    "            else:\n",
    "                dct[e] = i\n",
    "                \n",
    "        return None\n",
    "    \n",
    "Solution().two_sum([1, 2, 3, 3, 4, 5], 8)"
   ]
  },
  {
   "cell_type": "markdown",
   "metadata": {},
   "source": [
    "## Longest Substring Without Repeating Characters "
   ]
  },
  {
   "cell_type": "code",
   "execution_count": 8,
   "metadata": {},
   "outputs": [
    {
     "data": {
      "text/plain": [
       "2"
      ]
     },
     "execution_count": 8,
     "metadata": {},
     "output_type": "execute_result"
    }
   ],
   "source": [
    "class Solution:\n",
    "    def lengthOfLongestSubstring(self, s: str) -> int:\n",
    "        from collections import Counter\n",
    "        \n",
    "        if not len(s):\n",
    "            return 0\n",
    "        \n",
    "        l, dct, max_ = 0, {}, 0\n",
    "        for i, w in enumerate(s):\n",
    "            hit = w in dct\n",
    "            if hit:\n",
    "                max_ = max(max_, len(s[l:i]))\n",
    "                l, dct = i, {}\n",
    "                \n",
    "            # Last round\n",
    "            if i == len(s) - 1:\n",
    "                r = i if hit else i + 1\n",
    "                max_ = max(max_, len(s[l:r]))\n",
    "                break\n",
    "                \n",
    "            dct[w] = i\n",
    "                \n",
    "        return max_\n",
    "    \n",
    "Solution().lengthOfLongestSubstring(\"aaaab\") # aabaab!bb"
   ]
  },
  {
   "cell_type": "markdown",
   "metadata": {},
   "source": [
    "## Container With Most Water\n",
    "\n",
    "- 2 pointers approximation, better than brutal enumeration, check [Explanation of 2 pointer algo](https://leetcode.com/problems/container-with-most-water/discuss/6099/Yet-another-way-to-see-what-happens-in-the-O(n)-algorithm)\n",
    "\n",
    "    ```\n",
    "      1 2 3 4 5 6\n",
    "    1 x ------- o\n",
    "    2 x x       o\n",
    "    3 x x x     |\n",
    "    4 x x x x   |\n",
    "    5 x x x x x |\n",
    "    6 x x x x x x\n",
    "    ```"
   ]
  },
  {
   "cell_type": "code",
   "execution_count": 265,
   "metadata": {},
   "outputs": [
    {
     "name": "stdout",
     "output_type": "stream",
     "text": [
      "[(8, 6), (7, 8), (6, 2), (5, 4), (4, 5), (3, 7), (2, 3), (1, 0)]\n"
     ]
    }
   ],
   "source": [
    "class Solution:\n",
    "    def maxArea(self, height: List[int]) -> int:\n",
    "        _max = 0 \n",
    "        \n",
    "        l, r = 0, len(height)-1\n",
    "        \n",
    "        while l < r:\n",
    "            \n",
    "            _max = max(_max, min(height[l], height[r]) * (r-l))\n",
    "            \n",
    "            # for moving the left pointer\n",
    "            if height[l] < height[r]: l += 1\n",
    "              \n",
    "            # moving the right pointer\n",
    "            elif height[r] <= height[l]: r -= 1\n",
    "               \n",
    "        return _max"
   ]
  },
  {
   "cell_type": "markdown",
   "metadata": {},
   "source": [
    "## Sort"
   ]
  },
  {
   "cell_type": "markdown",
   "metadata": {},
   "source": [
    "### Quick sort"
   ]
  },
  {
   "cell_type": "code",
   "execution_count": 226,
   "metadata": {
    "scrolled": true,
    "tags": []
   },
   "outputs": [
    {
     "data": {
      "text/plain": [
       "[99.9375, 99.9375, 99.9375, 99.9375, 99.9375, 99.9375]"
      ]
     },
     "execution_count": 226,
     "metadata": {},
     "output_type": "execute_result"
    }
   ],
   "source": [
    "# Quick sort in Python\n",
    "\n",
    "# function to find the partition position\n",
    "def partition(array, low, high):\n",
    "  # choose the rightmost element as pivot\n",
    "  pivot = array[high]\n",
    "\n",
    "  # pointer for greater element\n",
    "  i = low - 1\n",
    "\n",
    "  # traverse through all elements\n",
    "  # compare each element with pivot\n",
    "  for j in range(low, high):\n",
    "    if array[j] <= pivot:\n",
    "      # if element smaller than pivot is found\n",
    "      # swap it with the greater element pointed by i\n",
    "      i = i + 1\n",
    "\n",
    "      # swapping element at i with element at j\n",
    "      (array[i], array[j]) = (array[j], array[i])\n",
    "      # print(array, i, j)\n",
    "\n",
    "  # swap the pivot element with the greater element specified by i\n",
    "  (array[i + 1], array[high]) = (array[high], array[i + 1])\n",
    "  # print(array, i + 1, high)\n",
    "  # print(\"-\" * 20)\n",
    "  # return the position from where partition is done\n",
    "  return i + 1\n",
    "\n",
    "# function to perform quicksort\n",
    "def quickSort(array=test, low=0, high=len(test) - 1):\n",
    "  if low < high:\n",
    "\n",
    "    # find pivot element such that\n",
    "    # element smaller than pivot are on the left\n",
    "    # element greater than pivot are on the right\n",
    "    pi = partition(array, low, high)\n",
    "\n",
    "    # recursive call on the left of pivot\n",
    "    quickSort(array, low, pi - 1)\n",
    "    # recursive call on the right of pivot\n",
    "    quickSort(array, pi + 1, high)\n",
    "\n",
    "\n",
    "# data = [8, 7, 2, 1, 0, 9, 6]\n",
    "# print(\"Unsorted Array\")\n",
    "# print(data)\n",
    "\n",
    "# size = len(data)\n",
    "\n",
    "memory_usage(quickSort)\n"
   ]
  },
  {
   "cell_type": "markdown",
   "metadata": {},
   "source": [
    "### quick sort without considering memory usage"
   ]
  },
  {
   "cell_type": "code",
   "execution_count": 224,
   "metadata": {},
   "outputs": [
    {
     "data": {
      "text/plain": [
       "[98.859375,\n",
       " 98.859375,\n",
       " 98.859375,\n",
       " 98.859375,\n",
       " 98.859375,\n",
       " 98.859375,\n",
       " 99.18359375,\n",
       " 99.84375,\n",
       " 99.9375]"
      ]
     },
     "execution_count": 224,
     "metadata": {},
     "output_type": "execute_result"
    }
   ],
   "source": [
    "from memory_profiler import memory_usage\n",
    "\n",
    "def quick_sort(ary=test):\n",
    "    if len(ary) <= 1:\n",
    "        return ary\n",
    "    \n",
    "    pivot, l_part, r_part = ary[-1], [], []\n",
    "    for i in range(len(ary) - 1):\n",
    "        if ary[i] <  pivot: \n",
    "            l_part.append(ary[i])\n",
    "        else:\n",
    "            r_part.append(ary[i])\n",
    "            \n",
    "    return quick_sort(l_part) + [pivot] + quick_sort(r_part)\n",
    "\n",
    "\n",
    "# print(quick_sort(test) == sorted(test))\n",
    "memory_usage(quick_sort)"
   ]
  },
  {
   "cell_type": "markdown",
   "metadata": {},
   "source": [
    "### Bubble sort\n",
    "\n",
    "- O(n**2) 一直把最大的往前推進, 像Bubble一樣浮出, 所以叫做Bubble sort"
   ]
  },
  {
   "cell_type": "code",
   "execution_count": null,
   "metadata": {},
   "outputs": [],
   "source": [
    "ary = np.random.randint(20, size=10)\n",
    "print(ary)\n",
    "\n",
    "base = np.zeros([10, 10])\n",
    "base[0] = ary\n",
    "for i in range(len(ary) - 1):\n",
    "    for j in range(len(ary) - 1 - i):\n",
    "        if ary[j] > ary[j + 1]:\n",
    "            ary[j], ary[j + 1] = ary[j + 1], ary[j]\n",
    "    base[i + 1] = ary\n",
    "base"
   ]
  },
  {
   "cell_type": "markdown",
   "metadata": {},
   "source": [
    "## 3-Sum"
   ]
  },
  {
   "cell_type": "code",
   "execution_count": 38,
   "metadata": {},
   "outputs": [],
   "source": [
    "class Solution:\n",
    "    def threeSum(self, nums):\n",
    "        \"\"\"\"\"\"\n",
    "        ary = []\n",
    "        cache = set()\n",
    "        nums.sort()\n",
    "        for i in range(len(nums) - 2):\n",
    "            t = nums[i]\n",
    "            l, r = i + 1, len(nums) - 1\n",
    "            while l < r:\n",
    "                _sum = nums[l] + t + nums[r]\n",
    "                if _sum == 0:\n",
    "                    tp = tuple(sorted([nums[l], t, nums[r]]))\n",
    "                    if tp not in cache:\n",
    "                        cache.add(tp)\n",
    "                        \n",
    "                    l += 1\n",
    "                    r -= 1\n",
    "                    while l < r:\n",
    "                        if nums[l] == nums[l + 1]:\n",
    "                            l += 1\n",
    "                        if nums[r] == nums[r - 1]:\n",
    "                            r -= 1\n",
    "                        \n",
    "                elif _sum < 0:\n",
    "                    l += 1\n",
    "                else:\n",
    "                    r -= 1\n",
    "        return list(map(list, cache))"
   ]
  },
  {
   "cell_type": "markdown",
   "metadata": {},
   "source": [
    "## Remove Nth Node From End of List"
   ]
  },
  {
   "cell_type": "code",
   "execution_count": 13,
   "metadata": {},
   "outputs": [
    {
     "name": "stdout",
     "output_type": "stream",
     "text": [
      "1\n",
      "3\n"
     ]
    }
   ],
   "source": [
    "from collections import deque\n",
    "\n",
    "class Solution(object):\n",
    "    def removeNthFromEnd(self, head, n):\n",
    "        dummy_head, cursor, idx = ListNode(), head, 0\n",
    "        dummy_head.next = head\n",
    "        \n",
    "        q = deque([], n + 1)\n",
    "        \n",
    "        while cursor is not None:\n",
    "            q.append(cursor)\n",
    "            cursor = cursor.next\n",
    "            \n",
    "        q_len = len(q)\n",
    "            \n",
    "        # If length of dequeue == n\n",
    "        if q_len == n + 1:\n",
    "            q[0].next = q[2] if q_len >= 3 else None\n",
    "            dummy_head = dummy_head.next\n",
    "        elif q_len <= n :\n",
    "            dummy_head = q[1] if q_len >= 2 else None\n",
    "            \n",
    "        return dummy_head"
   ]
  },
  {
   "cell_type": "code",
   "execution_count": 140,
   "metadata": {},
   "outputs": [
    {
     "data": {
      "text/plain": [
       "True"
      ]
     },
     "execution_count": 140,
     "metadata": {},
     "output_type": "execute_result"
    }
   ],
   "source": [
    "class Solution:\n",
    "    def isValid(self, s: str) -> bool:\n",
    "        left, right = \"({[\", \")}]\"\n",
    "        left, right = dict(zip(left, right)), dict(zip(right, left))\n",
    "        queue = []\n",
    "        for i, w in enumerate(s):\n",
    "            if w in left:\n",
    "                queue.append(w)\n",
    "                \n",
    "            if w in right:\n",
    "                if not len(queue):\n",
    "                    return False\n",
    "                \n",
    "                if right[w] != queue.pop():\n",
    "                    return False\n",
    "                \n",
    "        if len(queue) > 0:\n",
    "            return False\n",
    "        \n",
    "        return True\n",
    "\n",
    "Solution().isValid(\"(())\")"
   ]
  },
  {
   "cell_type": "markdown",
   "metadata": {},
   "source": [
    "## Merge 2 Sorted Lists"
   ]
  },
  {
   "cell_type": "code",
   "execution_count": 274,
   "metadata": {},
   "outputs": [],
   "source": [
    "class ListNode(object):\n",
    "    def __init__(self, val=0, next=None):\n",
    "        self.val = val\n",
    "        self.next = next\n",
    "        \n",
    "    def __repr__(self):\n",
    "        return f\"{self.val} -> {self.next}\"\n",
    "    \n",
    "    def __str__(self):\n",
    "        return self.__repr__()\n",
    "\n",
    "def compose_linkedlist(ary):\n",
    "    if not len(ary):\n",
    "        return None\n",
    "    \n",
    "    head = ptr = ListNode(ary[0])\n",
    "    for i in range(1, len(ary)):\n",
    "        ptr.next = ListNode(ary[i])\n",
    "        ptr = ptr.next\n",
    "    return head\n",
    "\n",
    "def show_linkedlist(x):\n",
    "    while x is not None:\n",
    "        print(x)\n",
    "        x = x.next\n"
   ]
  },
  {
   "cell_type": "code",
   "execution_count": 277,
   "metadata": {},
   "outputs": [
    {
     "ename": "KeyboardInterrupt",
     "evalue": "",
     "output_type": "error",
     "traceback": [
      "\u001b[0;31m---------------------------------------------------------------------------\u001b[0m",
      "\u001b[0;31mKeyboardInterrupt\u001b[0m                         Traceback (most recent call last)",
      "\u001b[0;32m<ipython-input-277-7dd0b6bd4a0e>\u001b[0m in \u001b[0;36m<module>\u001b[0;34m\u001b[0m\n\u001b[1;32m     14\u001b[0m         \u001b[0;32mreturn\u001b[0m \u001b[0mcur\u001b[0m\u001b[0;34m\u001b[0m\u001b[0;34m\u001b[0m\u001b[0m\n\u001b[1;32m     15\u001b[0m \u001b[0;34m\u001b[0m\u001b[0m\n\u001b[0;32m---> 16\u001b[0;31m \u001b[0mSolution\u001b[0m\u001b[0;34m(\u001b[0m\u001b[0;34m)\u001b[0m\u001b[0;34m.\u001b[0m\u001b[0mreverseList\u001b[0m\u001b[0;34m(\u001b[0m\u001b[0mcompose_linkedlist\u001b[0m\u001b[0;34m(\u001b[0m\u001b[0mlist\u001b[0m\u001b[0;34m(\u001b[0m\u001b[0mrange\u001b[0m\u001b[0;34m(\u001b[0m\u001b[0;36m5\u001b[0m\u001b[0;34m)\u001b[0m\u001b[0;34m)\u001b[0m\u001b[0;34m)\u001b[0m\u001b[0;34m)\u001b[0m\u001b[0;34m\u001b[0m\u001b[0;34m\u001b[0m\u001b[0m\n\u001b[0m",
      "\u001b[0;32m<ipython-input-277-7dd0b6bd4a0e>\u001b[0m in \u001b[0;36mreverseList\u001b[0;34m(self, head)\u001b[0m\n\u001b[1;32m      9\u001b[0m             \u001b[0mcur\u001b[0m \u001b[0;34m=\u001b[0m \u001b[0mtmp_next\u001b[0m\u001b[0;34m\u001b[0m\u001b[0;34m\u001b[0m\u001b[0m\n\u001b[1;32m     10\u001b[0m \u001b[0;34m\u001b[0m\u001b[0m\n\u001b[0;32m---> 11\u001b[0;31m             \u001b[0;32mif\u001b[0m \u001b[0mcur\u001b[0m \u001b[0;32mis\u001b[0m \u001b[0;32mNone\u001b[0m\u001b[0;34m:\u001b[0m\u001b[0;34m\u001b[0m\u001b[0;34m\u001b[0m\u001b[0m\n\u001b[0m\u001b[1;32m     12\u001b[0m                 \u001b[0;32mbreak\u001b[0m\u001b[0;34m\u001b[0m\u001b[0;34m\u001b[0m\u001b[0m\n\u001b[1;32m     13\u001b[0m \u001b[0;34m\u001b[0m\u001b[0m\n",
      "\u001b[0;31mKeyboardInterrupt\u001b[0m: "
     ]
    }
   ],
   "source": [
    "class Solution:\n",
    "    def reverseList(self, head):\n",
    "        dummy = ListNode(val=None, next=head)\n",
    "        \n",
    "        cur = dummy\n",
    "        prev, _next = None, None\n",
    "        while True:\n",
    "            # if tmp_next is not None:\n",
    "            #     tmp_next.next = cur\n",
    "            _next = cur.next\n",
    "            cur.next = prev\n",
    "            cur = tmp_next\n",
    "            if cur is None:\n",
    "                break\n",
    "            \n",
    "        return cur\n",
    "    \n",
    "Solution().reverseList(compose_linkedlist(list(range(5))))"
   ]
  },
  {
   "cell_type": "code",
   "execution_count": 228,
   "metadata": {},
   "outputs": [
    {
     "name": "stdout",
     "output_type": "stream",
     "text": [
      "cur: [1 -> 2 -> 3 -> None], l1: [2 -> 3 -> 5 -> 6 -> None], l2: [2 -> 3 -> None]\n",
      "cur: [2 -> 3 -> None], l1: [2 -> 3 -> 5 -> 6 -> None], l2: [3 -> None]\n",
      "cur: [2 -> 3 -> 5 -> 6 -> None], l1: [3 -> 5 -> 6 -> None], l2: [3 -> None]\n",
      "cur: [3 -> None], l1: [3 -> 5 -> 6 -> None], l2: [None]\n",
      "cur: [3 -> 3 -> 5 -> 6 -> None], l1: [3 -> 5 -> 6 -> None], l2: [None]\n"
     ]
    },
    {
     "data": {
      "text/plain": [
       "1 -> 2 -> 2 -> 3 -> 3 -> 5 -> 6 -> None"
      ]
     },
     "execution_count": 228,
     "metadata": {},
     "output_type": "execute_result"
    }
   ],
   "source": [
    "class Solution:\n",
    "    def mergeTwoLists(self, l1, l2):\n",
    "        root = cur = ListNode()\n",
    "        def check():\n",
    "            print(f\"cur: [{cur}], l1: [{l1}], l2: [{l2}]\")\n",
    "            \n",
    "        while True:\n",
    "            if l1 is None or l2 is None:\n",
    "                cur.next = l2 if l1 is None else l1\n",
    "                # check()\n",
    "                break\n",
    "                \n",
    "            if l1.val < l2.val:\n",
    "                cur.next = l1\n",
    "                l1 = l1.next\n",
    "            else:\n",
    "                cur.next = l2\n",
    "                l2 = l2.next\n",
    "                \n",
    "            cur = cur.next\n",
    "            # check()\n",
    "        return root.next\n",
    "    \n",
    "l1 = compose_linkedlist([2, 3, 5, 6])\n",
    "l2 = compose_linkedlist([1, 2, 3])\n",
    "Solution().mergeTwoLists(l1, l2)"
   ]
  },
  {
   "cell_type": "markdown",
   "metadata": {},
   "source": [
    "## Merge k Sorted Lists (Skip for now)"
   ]
  },
  {
   "cell_type": "code",
   "execution_count": 52,
   "metadata": {
    "scrolled": true,
    "tags": []
   },
   "outputs": [
    {
     "data": {
      "text/plain": [
       "1 -> None"
      ]
     },
     "execution_count": 52,
     "metadata": {},
     "output_type": "execute_result"
    }
   ],
   "source": [
    "# Definition for singly-linked list.\n",
    "class ListNode(object):\n",
    "    def __init__(self, val=0, next=None):\n",
    "        self.val = val\n",
    "        self.next = next\n",
    "        \n",
    "    def __repr__(self):\n",
    "        return f\"{self.val} -> {self.next}\"\n",
    "    \n",
    "    def __str__(self):\n",
    "        return self.__repr__()\n",
    "        \n",
    "        \n",
    "        \n",
    "class Solution:\n",
    "    def __init__(self):\n",
    "        self.ary = []\n",
    "    \n",
    "    def mergeKLists(self, lists):\n",
    "        \"\"\"\"\"\"\n",
    "        import heapq as hq\n",
    "        \n",
    "        root = cur = ListNode()\n",
    "        for i in range(len(lists)):\n",
    "            if lists[i] is not None:\n",
    "                hq.heappush(self.ary, (lists[i].val, i))\n",
    "\n",
    "        while len(self.ary) > 0:\n",
    "            _, idx = hq.heappop(self.ary)\n",
    "            cur.next = lists[idx]\n",
    "            lists[idx] = lists[idx].next\n",
    "            \n",
    "            cur = cur.next\n",
    "\n",
    "            if lists[idx] is not None:\n",
    "                hq.heappush(self.ary, (lists[idx].val, idx))\n",
    "            # else:\n",
    "            #     print(f\"linked_list {idx} done\")\n",
    "            \n",
    "            if len(self.ary) == 1:\n",
    "                cur.next = lists[hq.heappop(self.ary)[1]]\n",
    "                break\n",
    "                \n",
    "            # print(f\"[{idx}] chosen: {lists[idx].val if lists[idx] is not None else None}, cur: {cur.val}\")\n",
    "        return root.next\n",
    "        \n",
    "lists = [\n",
    "    compose_linkedlist([1]),\n",
    "    # compose_linkedlist([]),\n",
    "    # compose_linkedlist([100, 101, 103, 104]),\n",
    "]\n",
    "Solution().mergeKLists(lists)"
   ]
  },
  {
   "cell_type": "markdown",
   "metadata": {},
   "source": [
    "## Spiral Matrix"
   ]
  },
  {
   "cell_type": "code",
   "execution_count": 77,
   "metadata": {},
   "outputs": [
    {
     "name": "stdout",
     "output_type": "stream",
     "text": [
      "[[ 0  1  2  3  4]\n",
      " [ 5  6  7  8  9]\n",
      " [10 11 12 13 14]\n",
      " [15 16 17 18 19]]\n"
     ]
    },
    {
     "data": {
      "text/plain": [
       "[0, 1, 2, 3, 4, 9, 14, 19, 18, 17, 16, 15, 10, 5, 6, 7, 8, 13, 12, 11]"
      ]
     },
     "execution_count": 77,
     "metadata": {},
     "output_type": "execute_result"
    }
   ],
   "source": [
    "# class Solution:\n",
    "#     def spiralOrder(self, matrix):\n",
    "#         ret, sign, horizon = [], 1, True\n",
    "#         m = [0, len(matrix)]\n",
    "#         n = [0, len(matrix[0])]\n",
    "#         cnt, i, j = 0, 0, 0\n",
    "#         hit_end_cnt = 0\n",
    "#         while True:\n",
    "#             ret.append(matrix[i][j])\n",
    "#             # print(m, n, [i, j], horizon, sign)\n",
    "#             if horizon and sign > 0 and j + 1 >= n[1]:\n",
    "#                 m[0] += 1\n",
    "#                 horizon = not horizon\n",
    "#                 hit_end_cnt += 1\n",
    "#                 if hit_end_cnt > 0 and hit_end_cnt % 2 == 0: sign = -sign\n",
    "#             elif horizon and sign < 0 and j - 1 < n[0]:\n",
    "#                 m[1] -= 1\n",
    "#                 horizon = not horizon\n",
    "#                 hit_end_cnt += 1\n",
    "#                 if hit_end_cnt > 0 and hit_end_cnt % 2 == 0: sign = -sign\n",
    "#             elif not horizon and sign > 0 and i + 1 >= m[1]:\n",
    "#                 n[1] -= 1\n",
    "#                 horizon = not horizon\n",
    "#                 hit_end_cnt += 1\n",
    "#                 if hit_end_cnt > 0 and hit_end_cnt % 2 == 0: sign = -sign\n",
    "#             elif not horizon and sign < 0 and i - 1 < m[0]:\n",
    "#                 n[0] += 1\n",
    "#                 horizon = not horizon\n",
    "#                 hit_end_cnt += 1\n",
    "#                 if hit_end_cnt > 0 and hit_end_cnt % 2 == 0: sign = -sign\n",
    "                \n",
    "#             # print(f\"\\tEnd {m}, {n}\")\n",
    "#             if m[0] >= m[1] or n[0] >= n[1]: \n",
    "#                 break\n",
    "#             # TODO\n",
    "#             if cnt >= 100: break\n",
    "            \n",
    "#             if horizon: j += sign\n",
    "#             if not horizon: i += sign\n",
    "#             cnt += 1\n",
    "#         return ret\n",
    "\n",
    "class Solution:\n",
    "    def spiralOrder(self, matrix):\n",
    "        ret = []\n",
    "        m = [0, len(matrix)]\n",
    "        n = [0, len(matrix[0])]\n",
    "        cnt, i, j = 0, 0, 0\n",
    "        rows, cols = matrix, list(zip(*matrix))\n",
    "        print(np.array(matrix))\n",
    "        while True:\n",
    "            if cnt % 4 == 0: \n",
    "                s, e = n\n",
    "                # print(f\"0: rows {i}, {s}:{e}\")\n",
    "                ret.extend(rows[i][s:e])\n",
    "                m[0] += 1\n",
    "                j = n[1] - 1\n",
    "            if cnt % 4 == 1: \n",
    "                s, e = m\n",
    "                # print(f\"1: cols {j}, {s}:{e}\")\n",
    "                ret.extend(cols[j][s:e])\n",
    "                n[1] -= 1\n",
    "                i = m[1] - 1\n",
    "            if cnt % 4 == 2:\n",
    "                s, e = n\n",
    "                # print(f\"2: rows {i}, {s}:{e}\")\n",
    "                ret.extend(rows[i][s:e][::-1])\n",
    "                m[1] -= 1\n",
    "                j = n[0]\n",
    "            if cnt % 4 == 3:\n",
    "                s, e = m\n",
    "                # print(f\"3: cols {j}, {s}:{e}\")\n",
    "                ret.extend(cols[j][s:e][::-1])\n",
    "                n[0] += 1\n",
    "                i = m[0]\n",
    "                \n",
    "            if m[0] >= m[1] or n[0] >= n[1]: break\n",
    "            cnt += 1\n",
    "        return ret\n",
    "        \n",
    "# matrix = [[1,2,3,4],[5,6,7,8],[9,10,11,12]] # [[1,2,3],[4,5,6],[7,8,9]] \n",
    "matrix = np.arange(20).reshape([4, 5]).tolist()\n",
    "Solution().spiralOrder(matrix)"
   ]
  },
  {
   "cell_type": "markdown",
   "metadata": {},
   "source": [
    "## Max sub array\n",
    "\n",
    "Not an easy one"
   ]
  },
  {
   "cell_type": "code",
   "execution_count": 25,
   "metadata": {},
   "outputs": [
    {
     "name": "stdout",
     "output_type": "stream",
     "text": [
      "[[-2  1 -2  4  3  5  6  1  5]\n",
      " [-2  1 -3  4 -1  2  1 -5  4]]\n"
     ]
    },
    {
     "data": {
      "text/plain": [
       "6"
      ]
     },
     "execution_count": 25,
     "metadata": {},
     "output_type": "execute_result"
    }
   ],
   "source": [
    "class Solution:\n",
    "    def maxSubArray(self, nums):\n",
    "        \"\"\"\"\"\"\n",
    "        dp = [nums[0]]\n",
    "        _max = nums[0]\n",
    "        for i, e in enumerate(nums[1:], 1):\n",
    "            dp.append(e + (dp[i - 1] if dp[i - 1] > 0 else 0))\n",
    "            if i == len(nums) - 1:\n",
    "                print(np.stack([dp, nums]))\n",
    "            _max = max(_max, dp[i])\n",
    "            \n",
    "        return _max\n",
    "    \n",
    "nums = [-2,1,-3,4,-1,2,1,-5,4]\n",
    "Solution().maxSubArray(nums)"
   ]
  },
  {
   "cell_type": "markdown",
   "metadata": {},
   "source": [
    "## Word Search"
   ]
  },
  {
   "cell_type": "code",
   "execution_count": 5,
   "metadata": {
    "scrolled": true,
    "tags": []
   },
   "outputs": [
    {
     "name": "stdout",
     "output_type": "stream",
     "text": [
      "CPU times: user 1.14 s, sys: 6.87 ms, total: 1.14 s\n",
      "Wall time: 1.15 s\n"
     ]
    },
    {
     "data": {
      "text/plain": [
       "False"
      ]
     },
     "execution_count": 5,
     "metadata": {},
     "output_type": "execute_result"
    }
   ],
   "source": [
    "%%time\n",
    "\n",
    "def exist(board, word):\n",
    "    rows, cols = len(board), len(board[0])\n",
    "    directions = [(0, 1), (0, -1), (1, 0), (-1, 0)]\n",
    "    visited = set()\n",
    "\n",
    "    def dfs(r, c, i):\n",
    "        if i == len(word):\n",
    "            return True\n",
    "\n",
    "        if (\n",
    "            r < 0 or c < 0 or\n",
    "            r >= rows or c >= cols or\n",
    "            (r, c) in visited or\n",
    "            board[r][c] != word[i]\n",
    "        ):\n",
    "            return False\n",
    "\n",
    "        # print(f\"{i}: [{r},{c}] {visited}\")\n",
    "        visited.add((r, c))\n",
    "        for dr, dc in directions:\n",
    "            if dfs(r + dr, c + dc, i + 1): return True\n",
    "            \n",
    "        visited.remove((r, c))\n",
    "        return False\n",
    "\n",
    "\n",
    "    for r in range(rows):\n",
    "        for c in range(cols):\n",
    "            if dfs(r, c, 0):\n",
    "                return True\n",
    "    return False\n",
    "\n",
    "board = [[\"A\",\"A\",\"A\",\"A\",\"A\",\"A\"],[\"A\",\"A\",\"A\",\"A\",\"A\",\"A\"],[\"A\",\"A\",\"A\",\"A\",\"A\",\"A\"],[\"A\",\"A\",\"A\",\"A\",\"A\",\"A\"],[\"A\",\"A\",\"A\",\"A\",\"A\",\"A\"],[\"A\",\"A\",\"A\",\"A\",\"A\",\"A\"]]\n",
    "word = \"AAAAAAAAAAAABAA\"\n",
    "exist(board, word)"
   ]
  },
  {
   "cell_type": "code",
   "execution_count": 6,
   "metadata": {
    "tags": []
   },
   "outputs": [
    {
     "name": "stdout",
     "output_type": "stream",
     "text": [
      "[['A' 'A' 'A' 'A' 'A' 'A']\n",
      " ['A' 'A' 'A' 'A' 'A' 'A']\n",
      " ['A' 'A' 'A' 'A' 'A' 'A']\n",
      " ['A' 'A' 'A' 'A' 'A' 'A']\n",
      " ['A' 'A' 'A' 'A' 'A' 'A']\n",
      " ['A' 'A' 'A' 'A' 'A' 'A']] \n",
      "\n",
      "CPU times: user 1.44 s, sys: 23.7 ms, total: 1.46 s\n",
      "Wall time: 1.67 s\n"
     ]
    },
    {
     "data": {
      "text/plain": [
       "False"
      ]
     },
     "execution_count": 6,
     "metadata": {},
     "output_type": "execute_result"
    }
   ],
   "source": [
    "%%time\n",
    "\n",
    "class Solution:\n",
    "    def __init__(self):\n",
    "        \"\"\"\"\"\"\n",
    "        self.word = None\n",
    "        self.board = None\n",
    "        self.coord = set()\n",
    "        self.m, self.n = None, None\n",
    "        # up, right, down, left\n",
    "        self.directions = [(-1, 0), (0, 1), (1, 0), (0, -1)]\n",
    "    \n",
    "    def exist(self, board, word):\n",
    "        self.word = word\n",
    "        self.board = board\n",
    "        self.m, self.n = len(board), len(board[0])\n",
    "        if self.m * self.n < len(word):\n",
    "            return False\n",
    "            \n",
    "        w_idx = 0\n",
    "        for i in range(self.m):\n",
    "            for j in range(self.n):\n",
    "                if board[i][j] == self.word[w_idx]:\n",
    "                    if self.dfs(w_idx, i, j):\n",
    "                        return True\n",
    "                    \n",
    "        return False\n",
    "\n",
    "    def dfs(self, w_idx, i, j):\n",
    "        \"\"\"\"\"\"\n",
    "        self.coord.add((i, j))\n",
    "        # print(f\"{w_idx}: {self.word[w_idx]} [{i}, {j}] {self.coord}\")\n",
    "        if w_idx >= len(self.word) - 1: return True\n",
    "        \n",
    "        for r, c in self.directions:\n",
    "            ii, jj = (i + r, j + c)\n",
    "            \n",
    "            if (\n",
    "                # rows, cols not overflow\n",
    "                ii >= 0 and ii <= self.m - 1 and jj >= 0 and jj <= self.n - 1\n",
    "                # not visited\n",
    "                and (ii, jj) not in self.coord\n",
    "                # match next charactor\n",
    "                and self.board[ii][jj] == self.word[w_idx + 1]\n",
    "            ):\n",
    "                if self.dfs(w_idx + 1, ii, jj): \n",
    "                    return True\n",
    "                    \n",
    "        self.coord.remove((i, j))\n",
    "        return False\n",
    "    \n",
    "\n",
    "board = [[\"A\",\"A\",\"A\",\"A\",\"A\",\"A\"],[\"A\",\"A\",\"A\",\"A\",\"A\",\"A\"],[\"A\",\"A\",\"A\",\"A\",\"A\",\"A\"],[\"A\",\"A\",\"A\",\"A\",\"A\",\"A\"],[\"A\",\"A\",\"A\",\"A\",\"A\",\"A\"],[\"A\",\"A\",\"A\",\"A\",\"A\",\"A\"]]\n",
    "word = \"AAAAAAAAAAAABAA\"\n",
    "\n",
    "# board = [[\"A\",\"B\",\"C\",\"E\"],[\"S\",\"F\",\"C\",\"S\"],[\"A\",\"D\",\"E\",\"E\"]]\n",
    "# word = \"ABCB\"\n",
    "print(np.array(board), \"\\n\")\n",
    "Solution().exist(board, word)"
   ]
  },
  {
   "cell_type": "markdown",
   "metadata": {},
   "source": [
    "### Time exceeded"
   ]
  },
  {
   "cell_type": "code",
   "execution_count": 21,
   "metadata": {},
   "outputs": [
    {
     "name": "stdout",
     "output_type": "stream",
     "text": [
      "CPU times: user 1.93 s, sys: 12.1 ms, total: 1.94 s\n",
      "Wall time: 2.02 s\n"
     ]
    },
    {
     "data": {
      "text/plain": [
       "False"
      ]
     },
     "execution_count": 21,
     "metadata": {},
     "output_type": "execute_result"
    }
   ],
   "source": [
    "%%time\n",
    "\n",
    "class Solution:\n",
    "    def exist(self, board, word):\n",
    "        w_idx = 0\n",
    "        m, n = len(board), len(board[0])\n",
    "        if m * n < len(word):\n",
    "            return False\n",
    "        \n",
    "        directions = [(-1, 0), (0, 1), (1, 0), (0, -1)]\n",
    "        \n",
    "        for i in range(m):\n",
    "            for j in range(n):\n",
    "                if board[i][j] == word[w_idx]:\n",
    "                    stack = [(0, i, j, set())]\n",
    "                    while len(stack):\n",
    "                        _w_idx, ii, jj, coord = stack.pop()\n",
    "                        # print(f\"{_w_idx}, {word[_w_idx]}, [{ii}, {jj}], coord: {coord}\")\n",
    "                        \n",
    "                        if _w_idx >= len(word) - 1: return True\n",
    "                        \n",
    "                        next_word = word[_w_idx + 1]\n",
    "                        for r, c in directions:\n",
    "                            iii, jjj = ii + r, jj + c\n",
    "                            if (\n",
    "                                iii >= 0 and iii < m and jjj >= 0 and jjj < n\n",
    "                                and (iii, jjj) not in coord \n",
    "                                and board[iii][jjj] == next_word\n",
    "                            ):\n",
    "                                stack.append( (_w_idx + 1, iii, jjj, coord | set([(iii, jjj)])) )\n",
    "\n",
    "                        # if len(ary): stack.extend(ary)\n",
    "        return False\n",
    "    \n",
    "board = [[\"A\",\"A\",\"A\",\"A\",\"A\",\"A\"],\n",
    "         [\"A\",\"A\",\"A\",\"A\",\"A\",\"A\"],\n",
    "         [\"A\",\"A\",\"A\",\"A\",\"A\",\"A\"],\n",
    "         [\"A\",\"A\",\"A\",\"A\",\"A\",\"A\"],\n",
    "         [\"A\",\"A\",\"A\",\"A\",\"A\",\"A\"],\n",
    "         [\"A\",\"A\",\"A\",\"A\",\"A\",\"A\"]]\n",
    "word = \"AAAAAAAAAAAABAA\"\n",
    "\n",
    "# board = [[\"A\",\"B\",\"C\",\"E\"],\n",
    "#          [\"S\",\"F\",\"C\",\"S\"],\n",
    "#          [\"A\",\"D\",\"E\",\"E\"]]\n",
    "# word = \"ABCB\"\n",
    "# print(np.array(board), \"\\n\")\n",
    "Solution().exist(board, word)"
   ]
  },
  {
   "cell_type": "markdown",
   "metadata": {},
   "source": [
    "## Jump Game\n",
    "\n",
    "No need to consider all possible jump combinations, once the max of past jump beyond the point of **zero**, that means you could definitely find a way to jump across the dead index (zero)"
   ]
  },
  {
   "cell_type": "code",
   "execution_count": null,
   "metadata": {},
   "outputs": [],
   "source": [
    "class Solution:\n",
    "    def canJump(self, nums) -> bool:\n",
    "        \"\"\"\"\"\"\n",
    "        past_maxt = None\n",
    "        for i, e in enumerate(nums[:-1]):\n",
    "            if e != 0:\n",
    "                past_maxt = max(past_maxt, i + e) if past_maxt is not None else i + e\n",
    "            else:\n",
    "                # Found max of past step couldn't step across this index of value zero\n",
    "                if past_maxt is None or past_maxt <= i:\n",
    "                    print(\"Dead end\")\n",
    "                    return False\n",
    "            print(past_maxt)\n",
    "        return True\n",
    "    \n",
    "Solution().canJump([3,2,1,0,4])"
   ]
  },
  {
   "cell_type": "markdown",
   "metadata": {},
   "source": [
    "## Combination Sum"
   ]
  },
  {
   "cell_type": "code",
   "execution_count": 24,
   "metadata": {
    "scrolled": true,
    "tags": []
   },
   "outputs": [
    {
     "data": {
      "text/plain": [
       "[[1, 1, 1, 1, 1, 1, 1, 1, 1],\n",
       " [1, 1, 1, 1, 1, 1, 1, 2],\n",
       " [1, 1, 1, 1, 1, 1, 3],\n",
       " [1, 1, 1, 1, 1, 2, 2],\n",
       " [1, 1, 1, 1, 2, 3],\n",
       " [1, 1, 1, 1, 5],\n",
       " [1, 1, 1, 2, 2, 2],\n",
       " [1, 1, 1, 3, 3],\n",
       " [1, 1, 1, 6],\n",
       " [1, 1, 2, 2, 3],\n",
       " [1, 1, 2, 5],\n",
       " [1, 1, 7],\n",
       " [1, 2, 2, 2, 2],\n",
       " [1, 2, 3, 3],\n",
       " [1, 2, 6],\n",
       " [1, 3, 5],\n",
       " [2, 2, 2, 3],\n",
       " [2, 2, 5],\n",
       " [2, 7],\n",
       " [3, 3, 3],\n",
       " [3, 6]]"
      ]
     },
     "execution_count": 24,
     "metadata": {},
     "output_type": "execute_result"
    }
   ],
   "source": [
    "class Solution:\n",
    "    def combinationSum(self, candidates, target):\n",
    "        candidates = sorted(candidates)\n",
    "        ret = []\n",
    "        \n",
    "        def dfs(i, t, cache):\n",
    "            \"\"\"\"\"\"\n",
    "            cur = candidates[i]\n",
    "            # print(f\"[{i}], cur: {cur}, t: {t}\")\n",
    "            for cnt in range(t // cur, -1, -1):\n",
    "                next_t = t - cur * cnt\n",
    "                next_cache = cache + [cur] * cnt\n",
    "                # Hit and collect\n",
    "                if next_t == 0:\n",
    "                    ret.append(next_cache)\n",
    "                    continue\n",
    "\n",
    "                if next_t > 0 and i + 1 < len(candidates):\n",
    "                    dfs(i + 1, next_t, next_cache)\n",
    "                \n",
    "        dfs(0, target, [])\n",
    "        return ret\n",
    "\n",
    "Solution().combinationSum([2, 7, 6, 3, 5, 1], 9)"
   ]
  },
  {
   "cell_type": "code",
   "execution_count": 25,
   "metadata": {},
   "outputs": [
    {
     "data": {
      "text/plain": [
       "[[2, 2, 3], [7]]"
      ]
     },
     "execution_count": 25,
     "metadata": {},
     "output_type": "execute_result"
    }
   ],
   "source": [
    "class Solution:\n",
    "    def combinationSum(self, l, t):\n",
    "        self.t = t\n",
    "        self.res = []\n",
    "        for i in range(len(l)):\n",
    "            self.dfs(cand=l[i:],c=[l[i]])\n",
    "        return self.res\n",
    "    def dfs(self, cand, c):\n",
    "        if sum(c) == self.t:\n",
    "            self.res.append(c)\n",
    "            \n",
    "        for i in range(len(cand)):\n",
    "            if sum(c) + cand[i] == self.t:\n",
    "                self.res.append(c + [cand[i]])\n",
    "            elif sum(c) + cand[i] < self.t:\n",
    "                self.dfs(cand=cand[i:],c=c+[cand[i]])\n",
    "\n",
    "Solution().combinationSum([2, 3, 6, 7], 7)"
   ]
  },
  {
   "cell_type": "markdown",
   "metadata": {},
   "source": [
    "## Best Time to Buy and Sell Stock\n",
    "\n",
    "I additional write the bounding index of max profit --> [start, end, profit], \n",
    "actually the question did not demand this information."
   ]
  },
  {
   "cell_type": "code",
   "execution_count": 26,
   "metadata": {},
   "outputs": [
    {
     "data": {
      "text/plain": [
       "9"
      ]
     },
     "execution_count": 26,
     "metadata": {},
     "output_type": "execute_result"
    }
   ],
   "source": [
    "class Solution:\n",
    "    def maxProfit(self, prices):\n",
    "        mn_idx, profix = 0, [-1, -1, 0] # [start, end, profit]\n",
    "        for i in range(1, len(prices)):\n",
    "            cur = prices[i]\n",
    "            if cur - prices[mn_idx] > profix[-1]:\n",
    "                profix = [mn_idx, i, cur - prices[mn_idx]]\n",
    "                \n",
    "            if cur < prices[mn_idx]: mn_idx = i\n",
    "                \n",
    "        return profix[-1]\n",
    "    \n",
    "class Solution:\n",
    "    \"\"\"Solution which not keep the bounding indices, save memories.\"\"\"\n",
    "    def maxProfit(self, prices):\n",
    "        if not len(prices): return 0\n",
    "        \n",
    "        mn, profix = prices[0], -1\n",
    "        for i in range(1, len(prices)):\n",
    "            cur = prices[i]\n",
    "            profix = max(profix, cur - mn)\n",
    "            mn = min(mn, cur)\n",
    "                \n",
    "        return profix\n",
    "            \n",
    "Solution().maxProfit([7,2,5,3,6,4,1,10])"
   ]
  },
  {
   "cell_type": "markdown",
   "metadata": {},
   "source": [
    "# Misc"
   ]
  },
  {
   "cell_type": "code",
   "execution_count": 233,
   "metadata": {
    "scrolled": true,
    "tags": []
   },
   "outputs": [
    {
     "data": {
      "text/plain": [
       "{'headers': {'Trips': ['id',\n",
       "   'client_id',\n",
       "   'driver_id',\n",
       "   'city_id',\n",
       "   'status',\n",
       "   'request_at'],\n",
       "  'Users': ['users_id', 'banned', 'role']},\n",
       " 'rows': {'Trips': [['1', '1', '10', '1', 'completed', '2013-10-01'],\n",
       "   ['2', '2', '11', '1', 'cancelled_by_driver', '2013-10-01'],\n",
       "   ['3', '3', '12', '6', 'completed', '2013-10-01'],\n",
       "   ['4', '4', '13', '6', 'cancelled_by_client', '2013-10-01'],\n",
       "   ['5', '1', '10', '1', 'completed', '2013-10-02'],\n",
       "   ['6', '2', '11', '6', 'completed', '2013-10-02'],\n",
       "   ['7', '3', '12', '6', 'completed', '2013-10-02'],\n",
       "   ['8', '2', '12', '12', 'completed', '2013-10-03'],\n",
       "   ['9', '3', '10', '12', 'completed', '2013-10-03'],\n",
       "   ['10', '4', '13', '12', 'cancelled_by_driver', '2013-10-03']],\n",
       "  'Users': [['1', 'No', 'client'],\n",
       "   ['2', 'Yes', 'client'],\n",
       "   ['3', 'No', 'client'],\n",
       "   ['4', 'No', 'client'],\n",
       "   ['10', 'No', 'driver'],\n",
       "   ['11', 'No', 'driver'],\n",
       "   ['12', 'No', 'driver'],\n",
       "   ['13', 'No', 'driver']]}}"
      ]
     },
     "execution_count": 233,
     "metadata": {},
     "output_type": "execute_result"
    }
   ],
   "source": [
    "data = {\"headers\": {\"Trips\": [\"id\", \"client_id\", \"driver_id\", \"city_id\", \"status\", \"request_at\"], \"Users\": [\"users_id\", \"banned\", \"role\"]}, \"rows\": {\"Trips\": [[\"1\", \"1\", \"10\", \"1\", \"completed\", \"2013-10-01\"], [\"2\", \"2\", \"11\", \"1\", \"cancelled_by_driver\", \"2013-10-01\"], [\"3\", \"3\", \"12\", \"6\", \"completed\", \"2013-10-01\"], [\"4\", \"4\", \"13\", \"6\", \"cancelled_by_client\", \"2013-10-01\"], [\"5\", \"1\", \"10\", \"1\", \"completed\", \"2013-10-02\"], [\"6\", \"2\", \"11\", \"6\", \"completed\", \"2013-10-02\"], [\"7\", \"3\", \"12\", \"6\", \"completed\", \"2013-10-02\"], [\"8\", \"2\", \"12\", \"12\", \"completed\", \"2013-10-03\"], [\"9\", \"3\", \"10\", \"12\", \"completed\", \"2013-10-03\"], [\"10\", \"4\", \"13\", \"12\", \"cancelled_by_driver\", \"2013-10-03\"]], \"Users\": [[\"1\", \"No\", \"client\"], [\"2\", \"Yes\", \"client\"], [\"3\", \"No\", \"client\"], [\"4\", \"No\", \"client\"], [\"10\", \"No\", \"driver\"], [\"11\", \"No\", \"driver\"], [\"12\", \"No\", \"driver\"], [\"13\", \"No\", \"driver\"]]}}\n",
    "data"
   ]
  },
  {
   "cell_type": "code",
   "execution_count": 236,
   "metadata": {},
   "outputs": [
    {
     "data": {
      "text/html": [
       "<div>\n",
       "<style scoped>\n",
       "    .dataframe tbody tr th:only-of-type {\n",
       "        vertical-align: middle;\n",
       "    }\n",
       "\n",
       "    .dataframe tbody tr th {\n",
       "        vertical-align: top;\n",
       "    }\n",
       "\n",
       "    .dataframe thead th {\n",
       "        text-align: right;\n",
       "    }\n",
       "</style>\n",
       "<table border=\"1\" class=\"dataframe\">\n",
       "  <thead>\n",
       "    <tr style=\"text-align: right;\">\n",
       "      <th></th>\n",
       "      <th>id</th>\n",
       "      <th>client_id</th>\n",
       "      <th>driver_id</th>\n",
       "      <th>city_id</th>\n",
       "      <th>status</th>\n",
       "      <th>request_at</th>\n",
       "    </tr>\n",
       "  </thead>\n",
       "  <tbody>\n",
       "    <tr>\n",
       "      <th>0</th>\n",
       "      <td>1</td>\n",
       "      <td>1</td>\n",
       "      <td>10</td>\n",
       "      <td>1</td>\n",
       "      <td>completed</td>\n",
       "      <td>2013-10-01</td>\n",
       "    </tr>\n",
       "    <tr>\n",
       "      <th>1</th>\n",
       "      <td>2</td>\n",
       "      <td>2</td>\n",
       "      <td>11</td>\n",
       "      <td>1</td>\n",
       "      <td>cancelled_by_driver</td>\n",
       "      <td>2013-10-01</td>\n",
       "    </tr>\n",
       "    <tr>\n",
       "      <th>2</th>\n",
       "      <td>3</td>\n",
       "      <td>3</td>\n",
       "      <td>12</td>\n",
       "      <td>6</td>\n",
       "      <td>completed</td>\n",
       "      <td>2013-10-01</td>\n",
       "    </tr>\n",
       "    <tr>\n",
       "      <th>3</th>\n",
       "      <td>4</td>\n",
       "      <td>4</td>\n",
       "      <td>13</td>\n",
       "      <td>6</td>\n",
       "      <td>cancelled_by_client</td>\n",
       "      <td>2013-10-01</td>\n",
       "    </tr>\n",
       "    <tr>\n",
       "      <th>4</th>\n",
       "      <td>5</td>\n",
       "      <td>1</td>\n",
       "      <td>10</td>\n",
       "      <td>1</td>\n",
       "      <td>completed</td>\n",
       "      <td>2013-10-02</td>\n",
       "    </tr>\n",
       "  </tbody>\n",
       "</table>\n",
       "</div>"
      ],
      "text/plain": [
       "  id client_id driver_id city_id               status  request_at\n",
       "0  1         1        10       1            completed  2013-10-01\n",
       "1  2         2        11       1  cancelled_by_driver  2013-10-01\n",
       "2  3         3        12       6            completed  2013-10-01\n",
       "3  4         4        13       6  cancelled_by_client  2013-10-01\n",
       "4  5         1        10       1            completed  2013-10-02"
      ]
     },
     "metadata": {},
     "output_type": "display_data"
    },
    {
     "data": {
      "text/html": [
       "<div>\n",
       "<style scoped>\n",
       "    .dataframe tbody tr th:only-of-type {\n",
       "        vertical-align: middle;\n",
       "    }\n",
       "\n",
       "    .dataframe tbody tr th {\n",
       "        vertical-align: top;\n",
       "    }\n",
       "\n",
       "    .dataframe thead th {\n",
       "        text-align: right;\n",
       "    }\n",
       "</style>\n",
       "<table border=\"1\" class=\"dataframe\">\n",
       "  <thead>\n",
       "    <tr style=\"text-align: right;\">\n",
       "      <th></th>\n",
       "      <th>users_id</th>\n",
       "      <th>banned</th>\n",
       "      <th>role</th>\n",
       "    </tr>\n",
       "  </thead>\n",
       "  <tbody>\n",
       "    <tr>\n",
       "      <th>0</th>\n",
       "      <td>1</td>\n",
       "      <td>No</td>\n",
       "      <td>client</td>\n",
       "    </tr>\n",
       "    <tr>\n",
       "      <th>1</th>\n",
       "      <td>2</td>\n",
       "      <td>Yes</td>\n",
       "      <td>client</td>\n",
       "    </tr>\n",
       "    <tr>\n",
       "      <th>2</th>\n",
       "      <td>3</td>\n",
       "      <td>No</td>\n",
       "      <td>client</td>\n",
       "    </tr>\n",
       "    <tr>\n",
       "      <th>3</th>\n",
       "      <td>4</td>\n",
       "      <td>No</td>\n",
       "      <td>client</td>\n",
       "    </tr>\n",
       "    <tr>\n",
       "      <th>4</th>\n",
       "      <td>10</td>\n",
       "      <td>No</td>\n",
       "      <td>driver</td>\n",
       "    </tr>\n",
       "  </tbody>\n",
       "</table>\n",
       "</div>"
      ],
      "text/plain": [
       "  users_id banned    role\n",
       "0        1     No  client\n",
       "1        2    Yes  client\n",
       "2        3     No  client\n",
       "3        4     No  client\n",
       "4       10     No  driver"
      ]
     },
     "metadata": {},
     "output_type": "display_data"
    }
   ],
   "source": [
    "df_trips = pd.DataFrame(data[\"rows\"][\"Trips\"], columns=data[\"headers\"][\"Trips\"])\n",
    "df_users = pd.DataFrame(data[\"rows\"][\"Users\"], columns=data[\"headers\"][\"Users\"])\n",
    "display(df_trips.head())\n",
    "display(df_users.head())"
   ]
  },
  {
   "cell_type": "code",
   "execution_count": 240,
   "metadata": {},
   "outputs": [
    {
     "name": "stdout",
     "output_type": "stream",
     "text": [
      "<class 'pandas.core.frame.DataFrame'>\n",
      "RangeIndex: 10 entries, 0 to 9\n",
      "Data columns (total 6 columns):\n",
      " #   Column      Non-Null Count  Dtype \n",
      "---  ------      --------------  ----- \n",
      " 0   id          10 non-null     object\n",
      " 1   client_id   10 non-null     object\n",
      " 2   driver_id   10 non-null     object\n",
      " 3   city_id     10 non-null     object\n",
      " 4   status      10 non-null     object\n",
      " 5   request_at  10 non-null     object\n",
      "dtypes: object(6)\n",
      "memory usage: 608.0+ bytes\n",
      "<class 'pandas.core.frame.DataFrame'>\n",
      "RangeIndex: 8 entries, 0 to 7\n",
      "Data columns (total 3 columns):\n",
      " #   Column    Non-Null Count  Dtype \n",
      "---  ------    --------------  ----- \n",
      " 0   users_id  8 non-null      object\n",
      " 1   banned    8 non-null      object\n",
      " 2   role      8 non-null      object\n",
      "dtypes: object(3)\n",
      "memory usage: 320.0+ bytes\n"
     ]
    },
    {
     "data": {
      "text/plain": [
       "(None, None)"
      ]
     },
     "execution_count": 240,
     "metadata": {},
     "output_type": "execute_result"
    }
   ],
   "source": [
    "df_trips.info(), df_users.info()"
   ]
  },
  {
   "cell_type": "code",
   "execution_count": null,
   "metadata": {},
   "outputs": [],
   "source": [
    "df_trips.join"
   ]
  },
  {
   "cell_type": "code",
   "execution_count": 244,
   "metadata": {},
   "outputs": [
    {
     "data": {
      "text/html": [
       "<div>\n",
       "<style scoped>\n",
       "    .dataframe tbody tr th:only-of-type {\n",
       "        vertical-align: middle;\n",
       "    }\n",
       "\n",
       "    .dataframe tbody tr th {\n",
       "        vertical-align: top;\n",
       "    }\n",
       "\n",
       "    .dataframe thead th {\n",
       "        text-align: right;\n",
       "    }\n",
       "</style>\n",
       "<table border=\"1\" class=\"dataframe\">\n",
       "  <thead>\n",
       "    <tr style=\"text-align: right;\">\n",
       "      <th></th>\n",
       "      <th>id</th>\n",
       "      <th>client_id</th>\n",
       "      <th>driver_id</th>\n",
       "      <th>city_id</th>\n",
       "      <th>status</th>\n",
       "      <th>request_at</th>\n",
       "      <th>users_id_x</th>\n",
       "      <th>banned_x</th>\n",
       "      <th>role_x</th>\n",
       "      <th>users_id_y</th>\n",
       "      <th>banned_y</th>\n",
       "      <th>role_y</th>\n",
       "    </tr>\n",
       "  </thead>\n",
       "  <tbody>\n",
       "    <tr>\n",
       "      <th>0</th>\n",
       "      <td>1</td>\n",
       "      <td>1</td>\n",
       "      <td>10</td>\n",
       "      <td>1</td>\n",
       "      <td>completed</td>\n",
       "      <td>2013-10-01</td>\n",
       "      <td>1</td>\n",
       "      <td>No</td>\n",
       "      <td>client</td>\n",
       "      <td>10</td>\n",
       "      <td>No</td>\n",
       "      <td>driver</td>\n",
       "    </tr>\n",
       "    <tr>\n",
       "      <th>1</th>\n",
       "      <td>5</td>\n",
       "      <td>1</td>\n",
       "      <td>10</td>\n",
       "      <td>1</td>\n",
       "      <td>completed</td>\n",
       "      <td>2013-10-02</td>\n",
       "      <td>1</td>\n",
       "      <td>No</td>\n",
       "      <td>client</td>\n",
       "      <td>10</td>\n",
       "      <td>No</td>\n",
       "      <td>driver</td>\n",
       "    </tr>\n",
       "    <tr>\n",
       "      <th>2</th>\n",
       "      <td>9</td>\n",
       "      <td>3</td>\n",
       "      <td>10</td>\n",
       "      <td>12</td>\n",
       "      <td>completed</td>\n",
       "      <td>2013-10-03</td>\n",
       "      <td>3</td>\n",
       "      <td>No</td>\n",
       "      <td>client</td>\n",
       "      <td>10</td>\n",
       "      <td>No</td>\n",
       "      <td>driver</td>\n",
       "    </tr>\n",
       "    <tr>\n",
       "      <th>3</th>\n",
       "      <td>3</td>\n",
       "      <td>3</td>\n",
       "      <td>12</td>\n",
       "      <td>6</td>\n",
       "      <td>completed</td>\n",
       "      <td>2013-10-01</td>\n",
       "      <td>3</td>\n",
       "      <td>No</td>\n",
       "      <td>client</td>\n",
       "      <td>12</td>\n",
       "      <td>No</td>\n",
       "      <td>driver</td>\n",
       "    </tr>\n",
       "    <tr>\n",
       "      <th>4</th>\n",
       "      <td>7</td>\n",
       "      <td>3</td>\n",
       "      <td>12</td>\n",
       "      <td>6</td>\n",
       "      <td>completed</td>\n",
       "      <td>2013-10-02</td>\n",
       "      <td>3</td>\n",
       "      <td>No</td>\n",
       "      <td>client</td>\n",
       "      <td>12</td>\n",
       "      <td>No</td>\n",
       "      <td>driver</td>\n",
       "    </tr>\n",
       "    <tr>\n",
       "      <th>5</th>\n",
       "      <td>4</td>\n",
       "      <td>4</td>\n",
       "      <td>13</td>\n",
       "      <td>6</td>\n",
       "      <td>cancelled_by_client</td>\n",
       "      <td>2013-10-01</td>\n",
       "      <td>4</td>\n",
       "      <td>No</td>\n",
       "      <td>client</td>\n",
       "      <td>13</td>\n",
       "      <td>No</td>\n",
       "      <td>driver</td>\n",
       "    </tr>\n",
       "    <tr>\n",
       "      <th>6</th>\n",
       "      <td>10</td>\n",
       "      <td>4</td>\n",
       "      <td>13</td>\n",
       "      <td>12</td>\n",
       "      <td>cancelled_by_driver</td>\n",
       "      <td>2013-10-03</td>\n",
       "      <td>4</td>\n",
       "      <td>No</td>\n",
       "      <td>client</td>\n",
       "      <td>13</td>\n",
       "      <td>No</td>\n",
       "      <td>driver</td>\n",
       "    </tr>\n",
       "  </tbody>\n",
       "</table>\n",
       "</div>"
      ],
      "text/plain": [
       "   id client_id driver_id city_id               status  request_at users_id_x  \\\n",
       "0   1         1        10       1            completed  2013-10-01          1   \n",
       "1   5         1        10       1            completed  2013-10-02          1   \n",
       "2   9         3        10      12            completed  2013-10-03          3   \n",
       "3   3         3        12       6            completed  2013-10-01          3   \n",
       "4   7         3        12       6            completed  2013-10-02          3   \n",
       "5   4         4        13       6  cancelled_by_client  2013-10-01          4   \n",
       "6  10         4        13      12  cancelled_by_driver  2013-10-03          4   \n",
       "\n",
       "  banned_x  role_x users_id_y banned_y  role_y  \n",
       "0       No  client         10       No  driver  \n",
       "1       No  client         10       No  driver  \n",
       "2       No  client         10       No  driver  \n",
       "3       No  client         12       No  driver  \n",
       "4       No  client         12       No  driver  \n",
       "5       No  client         13       No  driver  \n",
       "6       No  client         13       No  driver  "
      ]
     },
     "execution_count": 244,
     "metadata": {},
     "output_type": "execute_result"
    }
   ],
   "source": [
    "tmp_users = df_users.query(\"banned == 'No'\")\n",
    "\n",
    "df_ret = (df_trips\n",
    "             .merge(tmp_users, left_on=\"client_id\", right_on=\"users_id\")\n",
    "             .merge(tmp_users, left_on=\"driver_id\", right_on=\"users_id\"))\n",
    "df_ret"
   ]
  },
  {
   "cell_type": "code",
   "execution_count": 272,
   "metadata": {},
   "outputs": [
    {
     "data": {
      "text/plain": [
       "[1, 3, 2]"
      ]
     },
     "execution_count": 272,
     "metadata": {},
     "output_type": "execute_result"
    }
   ],
   "source": [
    "import heapq\n",
    "\n",
    "ary = []\n",
    "heapq.heapify(ary)\n",
    "for i in range(3, 0, -1):\n",
    "    heapq.heappush(ary, i)\n",
    "ary"
   ]
  },
  {
   "cell_type": "code",
   "execution_count": 273,
   "metadata": {},
   "outputs": [
    {
     "name": "stdout",
     "output_type": "stream",
     "text": [
      "1\n",
      "2\n",
      "3\n"
     ]
    }
   ],
   "source": [
    "print(heapq.heappop(ary))\n",
    "print(heapq.heappop(ary))\n",
    "print(heapq.heappop(ary))"
   ]
  },
  {
   "cell_type": "code",
   "execution_count": null,
   "metadata": {},
   "outputs": [],
   "source": []
  }
 ],
 "metadata": {
  "kernelspec": {
   "display_name": "Python 3",
   "language": "python",
   "name": "python3"
  },
  "language_info": {
   "codemirror_mode": {
    "name": "ipython",
    "version": 3
   },
   "file_extension": ".py",
   "mimetype": "text/x-python",
   "name": "python",
   "nbconvert_exporter": "python",
   "pygments_lexer": "ipython3",
   "version": "3.6.12"
  }
 },
 "nbformat": 4,
 "nbformat_minor": 4
}
